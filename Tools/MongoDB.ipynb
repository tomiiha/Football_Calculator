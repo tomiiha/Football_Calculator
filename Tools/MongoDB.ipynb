{
 "cells": [
  {
   "cell_type": "code",
   "execution_count": 34,
   "metadata": {},
   "outputs": [],
   "source": [
    "import pymongo\n",
    "import ast\n",
    "#import dnspython\n",
    "\n",
    "# Local pass and db names.\n",
    "credentials = open('credentials.txt','r').read()\n",
    "#cred_conv = ast.literal_eval(credentials)\n",
    "#conn = \"mongodb+srv://\" + username + \":\" + password + \"@footbcluster.cj7mp.mongodb.net/\" + db_name + \"?retryWrites=true&w=majority\""
   ]
  },
  {
   "cell_type": "code",
   "execution_count": 35,
   "metadata": {},
   "outputs": [
    {
     "name": "stdout",
     "output_type": "stream",
     "text": [
      "{'username':tomiiha,\n",
      " 'password':'DnXiAhmcrJPdNIHr',\n",
      " 'db_name':FootieDB}\n"
     ]
    }
   ],
   "source": [
    "print(credentials)"
   ]
  },
  {
   "cell_type": "code",
   "execution_count": null,
   "metadata": {},
   "outputs": [],
   "source": [
    "pymongo.MongoClient(conn)\n",
    "db = conn.test"
   ]
  }
 ],
 "metadata": {
  "kernelspec": {
   "display_name": "Python 3",
   "language": "python",
   "name": "python3"
  },
  "language_info": {
   "codemirror_mode": {
    "name": "ipython",
    "version": 3
   },
   "file_extension": ".py",
   "mimetype": "text/x-python",
   "name": "python",
   "nbconvert_exporter": "python",
   "pygments_lexer": "ipython3",
   "version": "3.8.5"
  }
 },
 "nbformat": 4,
 "nbformat_minor": 4
}
