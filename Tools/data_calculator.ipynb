{
 "cells": [
  {
   "cell_type": "code",
   "execution_count": 33,
   "metadata": {},
   "outputs": [],
   "source": [
    "import os\n",
    "import pandas as pd\n",
    "import json\n",
    "from ipywidgets import widgets, Dropdown, interact, interact_manual, Button, Output\n",
    "from IPython.display import display\n",
    "\n",
    "def team_set():\n",
    "    data_filenames = [data_file for data_file in os.listdir() \n",
    "                      if data_file.endswith('.json') and 'team_list' in data_file]\n",
    "    with open(data_filenames[0]) as json_file:\n",
    "        data = json.load(json_file)\n",
    "    return data\n",
    "\n",
    "def team_names():\n",
    "    team_list = []\n",
    "    team_list = [x['Team'] for x in team_set() if x['Team'] not in team_list]\n",
    "    return team_list\n",
    "\n",
    "# Select team to parse, and capture data for.\n",
    "team_box=Dropdown(\n",
    "        description='Pick Team:',\n",
    "        layout={'width': 'max-content'},\n",
    "        style = {'description_width': 'initial'},\n",
    "        options=team_names(),\n",
    "        disabled=False)"
   ]
  },
  {
   "cell_type": "code",
   "execution_count": 34,
   "metadata": {},
   "outputs": [
    {
     "data": {
      "application/vnd.jupyter.widget-view+json": {
       "model_id": "8f2675a61da34b19a47059570020ff8c",
       "version_major": 2,
       "version_minor": 0
      },
      "text/plain": [
       "interactive(children=(Dropdown(description='Pick Team:', layout=Layout(width='max-content'), options=('1874 No…"
      ]
     },
     "metadata": {},
     "output_type": "display_data"
    }
   ],
   "source": [
    "@interact(team = team_box)\n",
    "def choose_team(team):\n",
    "    return"
   ]
  }
 ],
 "metadata": {
  "kernelspec": {
   "display_name": "Python 3",
   "language": "python",
   "name": "python3"
  },
  "language_info": {
   "codemirror_mode": {
    "name": "ipython",
    "version": 3
   },
   "file_extension": ".py",
   "mimetype": "text/x-python",
   "name": "python",
   "nbconvert_exporter": "python",
   "pygments_lexer": "ipython3",
   "version": "3.8.5"
  }
 },
 "nbformat": 4,
 "nbformat_minor": 4
}
