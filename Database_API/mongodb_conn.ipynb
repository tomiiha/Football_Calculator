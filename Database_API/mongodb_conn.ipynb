{
 "cells": [
  {
   "cell_type": "code",
   "execution_count": 63,
   "metadata": {},
   "outputs": [],
   "source": [
    "import pymongo\n",
    "import ast\n",
    "from ipywidgets import widgets, Dropdown, interact, interact_manual, Button, Output\n",
    "import json\n",
    "import os"
   ]
  },
  {
   "cell_type": "code",
   "execution_count": 64,
   "metadata": {},
   "outputs": [],
   "source": [
    "# UI Bits\n",
    "collection_box=Dropdown(\n",
    "    options=['team_details'],\n",
    "    description='Pick Collection:',\n",
    "    layout={'width': 'max-content'},\n",
    "    style = {'description_width': 'initial'},\n",
    "    disabled=False)"
   ]
  },
  {
   "cell_type": "code",
   "execution_count": 65,
   "metadata": {},
   "outputs": [],
   "source": [
    "class Connect(object):\n",
    "    def conn_establish():\n",
    "        # Pass credentials out of credentials file.\n",
    "        credentials = ast.literal_eval(open('credentials.txt','r').read())\n",
    "    \n",
    "        # Create client string to pass to connection open/close.\n",
    "        conn_url = \"mongodb+srv://\" + credentials['username'] + \":\" + credentials['password'] + \"@maindb.r1tr0.mongodb.net/\" + credentials['db_name'] + \"?retryWrites=true&w=majority\"\n",
    "        client = pymongo.MongoClient(conn_url)\n",
    "        return client"
   ]
  },
  {
   "cell_type": "code",
   "execution_count": 66,
   "metadata": {},
   "outputs": [],
   "source": [
    "# Run connection - test and run.\n",
    "def conn_start():\n",
    "    try:\n",
    "        status_msg = Connect.conn_establish().server_info()\n",
    "        conn_time = status_msg['operationTime']\n",
    "        return Connect.conn_establish()\n",
    "    except:\n",
    "        return \"Connection failed\""
   ]
  },
  {
   "cell_type": "code",
   "execution_count": 67,
   "metadata": {},
   "outputs": [],
   "source": [
    "# Terminate connection on-demand.\n",
    "def conn_close():\n",
    "    try:\n",
    "        Connect.conn_establish().close()\n",
    "        return 'Connection closed'\n",
    "    except:\n",
    "        return print(\"No Connection Established\")"
   ]
  },
  {
   "cell_type": "code",
   "execution_count": null,
   "metadata": {},
   "outputs": [],
   "source": [
    "def collection_operation():\n",
    "    return"
   ]
  },
  {
   "cell_type": "code",
   "execution_count": 69,
   "metadata": {},
   "outputs": [
    {
     "data": {
      "application/vnd.jupyter.widget-view+json": {
       "model_id": "f1b045820ef5479b8b8432971204cec7",
       "version_major": 2,
       "version_minor": 0
      },
      "text/plain": [
       "interactive(children=(Dropdown(description='Pick Collection:', layout=Layout(width='max-content'), options=('t…"
      ]
     },
     "metadata": {},
     "output_type": "display_data"
    }
   ],
   "source": [
    "@interact_manual(collection = collection_box)\n",
    "def choose_features(collection):\n",
    "    if collection == 'team_details':\n",
    "        \n",
    "        # Find team_list file for insertion - load json.\n",
    "        data_filenames = [data_file for data_file in os.listdir() \n",
    "                      if data_file.endswith('.json') and 'team_list' in data_file]\n",
    "        with open(data_filenames[0]) as json_file:\n",
    "            data = json.load(json_file)\n",
    "            \n",
    "        # Place all team details in db.    \n",
    "        for x in data:\n",
    "            Connect.conn_establish().collection.insert_one(x)\n",
    "        \n",
    "        # Note if completed.\n",
    "        return \"Team data updated\"\n",
    "    else:\n",
    "        return \"Nothing done\""
   ]
  },
  {
   "cell_type": "code",
   "execution_count": null,
   "metadata": {},
   "outputs": [],
   "source": []
  }
 ],
 "metadata": {
  "kernelspec": {
   "display_name": "Python 3",
   "language": "python",
   "name": "python3"
  },
  "language_info": {
   "codemirror_mode": {
    "name": "ipython",
    "version": 3
   },
   "file_extension": ".py",
   "mimetype": "text/x-python",
   "name": "python",
   "nbconvert_exporter": "python",
   "pygments_lexer": "ipython3",
   "version": "3.8.5"
  }
 },
 "nbformat": 4,
 "nbformat_minor": 4
}
