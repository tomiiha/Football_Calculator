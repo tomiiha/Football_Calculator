{
 "cells": [
  {
   "cell_type": "code",
   "execution_count": null,
   "metadata": {},
   "outputs": [],
   "source": [
    "import ipywidgets as widgets"
   ]
  },
  {
   "cell_type": "code",
   "execution_count": null,
   "metadata": {},
   "outputs": [],
   "source": [
    "def rerun_team_db():\n",
    "    from match_data_rework import team_capture\n",
    "    return \"Database refreshed, \" + team_capture()"
   ]
  },
  {
   "cell_type": "code",
   "execution_count": null,
   "metadata": {},
   "outputs": [],
   "source": [
    "# DB Display and Button\n",
    "from datetime import datetime\n",
    "import os\n",
    "# Capture last DB file update date off of file name.\n",
    "data_filenames = [data_file for data_file in os.listdir() \n",
    "                if data_file.endswith('.json')]\n",
    "db_date = data_filenames[0][10:data_filenames[0].find('.json')]\n",
    "db_date = datetime.strptime(db_date, '%Y%m%d').strftime('%d/%m/%Y')"
   ]
  },
  {
   "cell_type": "code",
   "execution_count": null,
   "metadata": {},
   "outputs": [],
   "source": []
  }
 ],
 "metadata": {
  "kernelspec": {
   "display_name": "Python 3",
   "language": "python",
   "name": "python3"
  },
  "language_info": {
   "codemirror_mode": {
    "name": "ipython",
    "version": 3
   },
   "file_extension": ".py",
   "mimetype": "text/x-python",
   "name": "python",
   "nbconvert_exporter": "python",
   "pygments_lexer": "ipython3",
   "version": "3.8.5"
  }
 },
 "nbformat": 4,
 "nbformat_minor": 4
}
