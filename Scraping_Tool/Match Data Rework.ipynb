{
 "cells": [
  {
   "cell_type": "code",
   "execution_count": 42,
   "metadata": {},
   "outputs": [],
   "source": [
    "# Packaged used across functions - others in respective functions.\n",
    "from bs4 import BeautifulSoup as bsoup\n",
    "import requests as reqs\n",
    "import json\n",
    "import os\n",
    "from ipywidgets import widgets, Dropdown, interact, interact_manual, Button, Output\n",
    "from IPython.display import display"
   ]
  },
  {
   "cell_type": "code",
   "execution_count": 43,
   "metadata": {},
   "outputs": [],
   "source": [
    "# Create team JSON file for parsing for front-end.\n",
    "# the b variable here is just placed for the button interaction in UI.\n",
    "def team_capture(b):\n",
    "    from datetime import date\n",
    "    today = date.today().strftime('%Y%m%d')\n",
    "    clubs_link = 'https://fbref.com/en/country/clubs/ENG/England-Football-Clubs'\n",
    "    club_page = bsoup(reqs.get(clubs_link).content, 'html.parser')\n",
    "    find_teams = club_page.find_all('tr')\n",
    "    team_total = []\n",
    "    file_name = 'team_list_' + str(today) + '.json'\n",
    "    for x in find_teams[1:]:\n",
    "        team_dict = {}\n",
    "        add_team = x.find_next('th').get_text()\n",
    "        team_dict['Team'] = add_team\n",
    "        add_gen = x.find_next('td', attrs={\"data-stat\":\"gender\"}).get_text()\n",
    "        team_dict['Gender'] = add_gen\n",
    "        add_comp = x.find_next('td', attrs={\"data-stat\":\"comp\"}).get_text()\n",
    "        team_dict['Competition'] = add_comp\n",
    "        add_min = x.find_next('td', attrs={\"data-stat\":\"min_season\"}).get_text()\n",
    "        team_dict['Earliest Season'] = add_min\n",
    "        add_max = x.find_next('td', attrs={\"data-stat\":\"max_season\"}).get_text()\n",
    "        team_dict['Latest Season'] = add_max\n",
    "        add_total = x.find_next('td', attrs={\"data-stat\":\"num_comps\"}).get_text()\n",
    "        team_dict['Total Seasons'] = add_total\n",
    "        add_champs = x.find_next('td', attrs={\"data-stat\":\"first_place_finishes\"}).get_text()\n",
    "        team_dict['Championships'] = add_champs\n",
    "        add_names = x.find_next('td', attrs={\"data-stat\":\"other_names\"}).get_text()\n",
    "        team_dict['Other Names'] = add_names\n",
    "        # 'team_code' and 'team_prefix' for capturing season data later on.\n",
    "        team_code = x.find_next('a').attrs['href']\n",
    "        team_prefix = team_code[team_code.find('/history/') + 9:team_code.find('-and')]       \n",
    "        team_code = team_code[11:team_code.find('/history/')]\n",
    "        team_dict['Code'] = team_code\n",
    "        team_dict['Prefix'] = team_prefix\n",
    "        team_total.append(team_dict)\n",
    "    # Write JSON file\n",
    "    with open(file_name, 'w') as outfile:\n",
    "        json.dump(team_total, outfile)\n",
    "    with output:\n",
    "        print(\"Team DB Updated, \" + today)\n",
    "    return"
   ]
  },
  {
   "cell_type": "code",
   "execution_count": 44,
   "metadata": {},
   "outputs": [],
   "source": [
    "# Load team JSON file create above.\n",
    "def data_set():\n",
    "    data_filenames = [data_file for data_file in os.listdir() \n",
    "                      if data_file.endswith('.json')]\n",
    "    with open(data_filenames[0]) as json_file:\n",
    "        data = json.load(json_file)\n",
    "    return data"
   ]
  },
  {
   "cell_type": "code",
   "execution_count": 45,
   "metadata": {},
   "outputs": [],
   "source": [
    "# Gather league list for selection.\n",
    "def league_names():\n",
    "    league_list = []\n",
    "    for x in data_set():\n",
    "        if x['Competition'] is not None and x['Competition'] not in league_list:\n",
    "            league_list.append(x['Competition'])\n",
    "    return league_list[1:]\n",
    "\n",
    "# Gather team list for selection.\n",
    "def team_names(league_select):\n",
    "    team_list = []\n",
    "    for x in data_set():\n",
    "        if x['Competition'] == league_select and x['Team'] not in team_list:\n",
    "            team_list.append(x['Team'])\n",
    "    return team_list\n",
    "\n",
    "# Capture team details for parsing based on above choices.\n",
    "def team_data(team_select):\n",
    "    for x in data_set():\n",
    "        if x['Team'] == team_select:\n",
    "            return x"
   ]
  },
  {
   "cell_type": "code",
   "execution_count": 46,
   "metadata": {},
   "outputs": [],
   "source": [
    "def parse_seasons(code,prefix,min_season):\n",
    "    # Season to capture games for:\n",
    "    season_to_parse = \"https://fbref.com/en/squads/\" + code + '/' + min_season + '/' + prefix\n",
    "    # Parse season details.\n",
    "    match_links = []\n",
    "    season_page = bsoup(reqs.get(season_to_parse).content, 'html.parser')\n",
    "    find_links = season_page.find_all('td',attrs={\"data-stat\":\"match_report\"})\n",
    "    for x in find_links:\n",
    "        add = x.find_next('a').attrs['href']\n",
    "        match_links.append(\"https://fbref.com\" + str(add))\n",
    "    # Eventually change to game_data(match_links) to process game data.\n",
    "    return game_data(match_links)"
   ]
  },
  {
   "cell_type": "code",
   "execution_count": 47,
   "metadata": {},
   "outputs": [],
   "source": [
    "def game_data(match_links):\n",
    "    from datetime import datetime\n",
    "    match_dataset = {}\n",
    "    for match in match_links[:1]:\n",
    "        parse_page = bsoup(reqs.get(match).content, 'html.parser')\n",
    "        # Date.\n",
    "        find_date = parse_page.find(\"div\",{\"class\":\"scorebox_meta\"}).find('a').get_text()\n",
    "        date_adj = datetime.strptime(find_date[find_date.find(' ') + 1:], '%B %d, %Y')\n",
    "        match_dataset['Date'] = date_adj.strftime('%Y-%m-%d')\n",
    "        # Team names - capture from 'title'.\n",
    "        find_teams = parse_page.find(\"title\").get_text()\n",
    "        match_dataset['Home'] = find_teams[:(find_teams.find('vs.') - 1)]\n",
    "        match_dataset['Away'] = find_teams[(find_teams.find('vs.') + 4):find_teams.find('Match') - 1]\n",
    "        # Score.\n",
    "        find_scores = parse_page.find_all(\"div\",{\"class\":\"score\"})\n",
    "        print(find_scores)\n",
    "    return match_dataset"
   ]
  },
  {
   "cell_type": "code",
   "execution_count": 48,
   "metadata": {
    "scrolled": true
   },
   "outputs": [
    {
     "data": {
      "application/vnd.jupyter.widget-view+json": {
       "model_id": "8beeaa505dde4a51865747b34fb41c8c",
       "version_major": 2,
       "version_minor": 0
      },
      "text/plain": [
       "Button(description='Update Team Data', style=ButtonStyle())"
      ]
     },
     "metadata": {},
     "output_type": "display_data"
    },
    {
     "data": {
      "application/vnd.jupyter.widget-view+json": {
       "model_id": "c3147a49db144e18bed06976282cc716",
       "version_major": 2,
       "version_minor": 0
      },
      "text/plain": [
       "Output()"
      ]
     },
     "metadata": {},
     "output_type": "display_data"
    },
    {
     "data": {
      "application/vnd.jupyter.widget-view+json": {
       "model_id": "30bca8cb2a5c4998b06bfc985965744d",
       "version_major": 2,
       "version_minor": 0
      },
      "text/plain": [
       "interactive(children=(Dropdown(description='Pick League:', layout=Layout(width='max-content'), options=('EFL L…"
      ]
     },
     "metadata": {},
     "output_type": "display_data"
    },
    {
     "data": {
      "application/vnd.jupyter.widget-view+json": {
       "model_id": "17090a59d524422c9b9f51925297d488",
       "version_major": 2,
       "version_minor": 0
      },
      "text/plain": [
       "interactive(children=(Dropdown(description='Pick Team:', layout=Layout(width='max-content'), options=('Accring…"
      ]
     },
     "metadata": {},
     "output_type": "display_data"
    }
   ],
   "source": [
    "### UI for league and team select\n",
    "# Select league to pick team from.\n",
    "league_box=Dropdown(\n",
    "        options=league_names(),\n",
    "        description='Pick League:',\n",
    "        layout={'width': 'max-content'},\n",
    "        style = {'description_width': 'initial'},\n",
    "        disabled=False)\n",
    "\n",
    "# Select team to parse, and capture data for.\n",
    "team_box=Dropdown(\n",
    "        description='Pick Team:',\n",
    "        layout={'width': 'max-content'},\n",
    "        style = {'description_width': 'initial'},\n",
    "        disabled=False)\n",
    "\n",
    "# Select team to parse, and capture data for.\n",
    "season_box=Dropdown(\n",
    "        description='Pick Season:',\n",
    "# 2014-2015 season is the earliest instance with match data from the looks of it.\n",
    "        options=['2014-2015','2015-2016',\n",
    "                 '2016-2017','2017-2018',\n",
    "                 '2018-2019','2019-2020','2020-2021',\n",
    "                 '2021-2022'],\n",
    "        value='2019-2020',\n",
    "        layout={'width': 'max-content'},\n",
    "        style = {'description_width': 'initial'},\n",
    "        disabled=False)\n",
    "\n",
    "scrape_button=Button(\n",
    "        description='Update Team Data',\n",
    "        style = {'description_width': 'initial'},\n",
    "        disable=False)\n",
    "\n",
    "output = widgets.Output()\n",
    "display(scrape_button, output)\n",
    "scrape_button.on_click(team_capture)\n",
    "\n",
    "@interact(league = league_box)\n",
    "def choose_both(league):\n",
    "    team_box.options = team_names(league_box.value)\n",
    "    return\n",
    "\n",
    "@interact_manual(team = team_box, use_season = season_box)\n",
    "def choose_team(team, use_season):\n",
    "    return team_choice_cap(team_data(team),use_season)\n",
    "\n",
    "def team_choice_cap(data_set, use_season):\n",
    "    code = data_set['Code']\n",
    "    prefix = data_set['Prefix']\n",
    "    return parse_seasons(code,prefix,use_season)"
   ]
  },
  {
   "cell_type": "code",
   "execution_count": null,
   "metadata": {},
   "outputs": [],
   "source": []
  }
 ],
 "metadata": {
  "kernelspec": {
   "display_name": "Python 3",
   "language": "python",
   "name": "python3"
  },
  "language_info": {
   "codemirror_mode": {
    "name": "ipython",
    "version": 3
   },
   "file_extension": ".py",
   "mimetype": "text/x-python",
   "name": "python",
   "nbconvert_exporter": "python",
   "pygments_lexer": "ipython3",
   "version": "3.8.5"
  }
 },
 "nbformat": 4,
 "nbformat_minor": 4
}
