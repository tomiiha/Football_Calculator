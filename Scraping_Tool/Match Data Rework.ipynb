{
 "cells": [
  {
   "cell_type": "code",
   "execution_count": null,
   "metadata": {},
   "outputs": [],
   "source": [
    "from bs4 import BeautifulSoup as bsoup\n",
    "import requests as reqs\n",
    "from datetime import datetime\n",
    "import pandas as pd\n",
    "\n",
    "# Season to capture games for:\n",
    "season_to_parse = \"https://fbref.com/en/squads/986a26c1/2019-2020/Northampton-Town-Stats\""
   ]
  },
  {
   "cell_type": "code",
   "execution_count": null,
   "metadata": {},
   "outputs": [],
   "source": [
    "# team_capture to be used to generate a list of teams - use for auto draw.\n",
    "def team_capture():\n",
    "    team_file = pd.read_csv('team_list.csv', delimiter=',')\n",
    "    return team_file['Squad']"
   ]
  },
  {
   "cell_type": "code",
   "execution_count": null,
   "metadata": {},
   "outputs": [],
   "source": [
    "def parse_seasons(season_to_parse):\n",
    "    match_links = []\n",
    "    season_page = bsoup(reqs.get(season_to_parse).content, 'html.parser')\n",
    "    find_links = season_page.find_all('td',attrs={\"data-stat\":\"match_report\"})\n",
    "    for x in find_links:\n",
    "        add = x.find_next('a').attrs['href']\n",
    "        match_links.append(\"https://fbref.com\" + str(add))\n",
    "    return game_data(match_links)"
   ]
  },
  {
   "cell_type": "code",
   "execution_count": null,
   "metadata": {},
   "outputs": [],
   "source": [
    "def game_data(match_links):\n",
    "    match_dataset = {}\n",
    "    for match in match_links[:1]:\n",
    "        parse_page = bsoup(reqs.get(match).content, 'html.parser')\n",
    "        # Date\n",
    "        find_date = parse_page.find(\"div\",{\"class\":\"scorebox_meta\"}).find('a').get_text()\n",
    "        date_adj = datetime.strptime(find_date[find_date.find(' ') + 1:], '%B %d, %Y')\n",
    "        match_dataset['Date'] = date_adj.strftime('%Y-%m-%d')\n",
    "        # Team names - capture from 'title'\n",
    "        find_teams = parse_page.find(\"title\").get_text()\n",
    "        match_dataset['Home'] = find_teams[:(find_teams.find('vs.') - 1)]\n",
    "        match_dataset['Away'] = find_teams[(find_teams.find('vs.') + 4):find_teams.find('Match') - 1]\n",
    "        # Score\n",
    "        find_scores = parse_page.find_all(\"div\",{\"class\":\"score\"})\n",
    "        print(find_scores)\n",
    "    return"
   ]
  },
  {
   "cell_type": "code",
   "execution_count": null,
   "metadata": {
    "scrolled": true
   },
   "outputs": [],
   "source": [
    "# Run the whole gambit\n",
    "\n",
    "# parse_seasons(season_to_parse)\n",
    "# team_capture()"
   ]
  }
 ],
 "metadata": {
  "kernelspec": {
   "display_name": "Python 3",
   "language": "python",
   "name": "python3"
  },
  "language_info": {
   "codemirror_mode": {
    "name": "ipython",
    "version": 3
   },
   "file_extension": ".py",
   "mimetype": "text/x-python",
   "name": "python",
   "nbconvert_exporter": "python",
   "pygments_lexer": "ipython3",
   "version": "3.8.5"
  }
 },
 "nbformat": 4,
 "nbformat_minor": 4
}
