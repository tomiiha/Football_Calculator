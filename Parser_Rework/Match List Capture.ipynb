{
 "cells": [
  {
   "cell_type": "code",
   "execution_count": 13,
   "metadata": {},
   "outputs": [],
   "source": [
    "from bs4 import BeautifulSoup as bsoup\n",
    "import requests as reqs\n",
    "\n",
    "# Season to capture games for:\n",
    "season_to_parse = \"https://fbref.com/en/squads/986a26c1/2019-2020/Northampton-Town-Stats\""
   ]
  },
  {
   "cell_type": "code",
   "execution_count": 14,
   "metadata": {},
   "outputs": [],
   "source": [
    "page = reqs.get(season_to_parse)\n",
    "status_code = page.status_code\n",
    "status_code = str(status_code)\n",
    "season_page = bsoup(page.content, 'html.parser')"
   ]
  },
  {
   "cell_type": "code",
   "execution_count": null,
   "metadata": {},
   "outputs": [],
   "source": [
    "match_links = []\n",
    "find_links = season_page.find_all('td',attrs={\"data-stat\":\"match_report\"})\n",
    "for x in find_links:\n",
    "    add = x.find_next('a').attrs['href']\n",
    "    match_links.append(\"https://fbref.com\" + str(add))"
   ]
  },
  {
   "cell_type": "code",
   "execution_count": null,
   "metadata": {},
   "outputs": [],
   "source": []
  }
 ],
 "metadata": {
  "kernelspec": {
   "display_name": "Python 3",
   "language": "python",
   "name": "python3"
  },
  "language_info": {
   "codemirror_mode": {
    "name": "ipython",
    "version": 3
   },
   "file_extension": ".py",
   "mimetype": "text/x-python",
   "name": "python",
   "nbconvert_exporter": "python",
   "pygments_lexer": "ipython3",
   "version": "3.7.9"
  }
 },
 "nbformat": 4,
 "nbformat_minor": 4
}
