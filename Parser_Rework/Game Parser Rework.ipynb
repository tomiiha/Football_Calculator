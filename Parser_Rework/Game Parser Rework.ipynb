{
 "cells": [
  {
   "cell_type": "code",
   "execution_count": 23,
   "metadata": {
    "scrolled": true
   },
   "outputs": [],
   "source": [
    "from bs4 import BeautifulSoup as bsoup\n",
    "import requests as reqs"
   ]
  },
  {
   "cell_type": "code",
   "execution_count": 24,
   "metadata": {
    "scrolled": true
   },
   "outputs": [],
   "source": [
    "page_to_parse = \"https://fbref.com/en/matches/b02300e0/Northampton-Town-AFC-Wimbledon-September-12-2020-League-One\""
   ]
  },
  {
   "cell_type": "code",
   "execution_count": 25,
   "metadata": {},
   "outputs": [],
   "source": [
    "page = reqs.get(page_to_parse)\n",
    "status_code = page.status_code\n",
    "status_code = str(status_code)\n",
    "parse_page = bsoup(page.content, 'html.parser')"
   ]
  },
  {
   "cell_type": "code",
   "execution_count": 26,
   "metadata": {},
   "outputs": [
    {
     "name": "stdout",
     "output_type": "stream",
     "text": [
      "Northampton Town vs. AFC Wimbledon Match Report – Saturday September 12, 2020 | FBref.com\n"
     ]
    }
   ],
   "source": [
    "find_details = parse_page.find(\"title\").get_text()\n",
    "team_one = find_details[:(find_details.find('vs.') - 1)]\n",
    "team_two = find_details[(find_details.find('vs.') + 4):find_details.find('Match')]\n",
    "print(find_details)"
   ]
  },
  {
   "cell_type": "code",
   "execution_count": null,
   "metadata": {},
   "outputs": [],
   "source": [
    "# Below run the parse page to check the elements in the actual parsed results.\n",
    "# print(parse_page)"
   ]
  },
  {
   "cell_type": "code",
   "execution_count": null,
   "metadata": {},
   "outputs": [],
   "source": []
  }
 ],
 "metadata": {
  "kernelspec": {
   "display_name": "Python 3",
   "language": "python",
   "name": "python3"
  },
  "language_info": {
   "codemirror_mode": {
    "name": "ipython",
    "version": 3
   },
   "file_extension": ".py",
   "mimetype": "text/x-python",
   "name": "python",
   "nbconvert_exporter": "python",
   "pygments_lexer": "ipython3",
   "version": "3.7.9"
  }
 },
 "nbformat": 4,
 "nbformat_minor": 4
}
