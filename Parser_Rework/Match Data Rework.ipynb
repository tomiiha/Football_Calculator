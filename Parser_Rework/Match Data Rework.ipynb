{
 "cells": [
  {
   "cell_type": "code",
   "execution_count": 181,
   "metadata": {},
   "outputs": [],
   "source": [
    "from bs4 import BeautifulSoup as bsoup\n",
    "import requests as reqs\n",
    "\n",
    "# Season to capture games for:\n",
    "season_to_parse = \"https://fbref.com/en/squads/986a26c1/2019-2020/Northampton-Town-Stats\""
   ]
  },
  {
   "cell_type": "code",
   "execution_count": 182,
   "metadata": {},
   "outputs": [],
   "source": [
    "def parse_seasons(season_to_parse):\n",
    "    match_links = []\n",
    "    page = reqs.get(season_to_parse)\n",
    "    season_page = bsoup(page.content, 'html.parser')\n",
    "    find_links = season_page.find_all('td',attrs={\"data-stat\":\"match_report\"})\n",
    "    for x in find_links:\n",
    "        add = x.find_next('a').attrs['href']\n",
    "        match_links.append(\"https://fbref.com\" + str(add))\n",
    "    return game_data(match_links)"
   ]
  },
  {
   "cell_type": "code",
   "execution_count": 185,
   "metadata": {},
   "outputs": [],
   "source": [
    "def game_data(match_links):\n",
    "    match_dataset = {}\n",
    "    for match in match_links[:1]:\n",
    "        page = reqs.get(match)\n",
    "        parse_page = bsoup(page.content, 'html.parser')\n",
    "        find_details = parse_page.find(\"title\").get_text()\n",
    "        # Team names\n",
    "        team_one = find_details[:(find_details.find('vs.') - 1)]\n",
    "        team_two = find_details[(find_details.find('vs.') + 4):find_details.find('Match') - 1]\n",
    "        match_dataset['Home'] = team_one\n",
    "        match_dataset['Away'] = team_two\n",
    "        # Date\n",
    "        return match_dataset"
   ]
  },
  {
   "cell_type": "code",
   "execution_count": 186,
   "metadata": {},
   "outputs": [
    {
     "data": {
      "text/plain": [
       "{'Home': 'Northampton Town', 'Away': 'Walsall'}"
      ]
     },
     "execution_count": 186,
     "metadata": {},
     "output_type": "execute_result"
    }
   ],
   "source": [
    "parse_seasons(season_to_parse)"
   ]
  },
  {
   "cell_type": "code",
   "execution_count": null,
   "metadata": {},
   "outputs": [],
   "source": []
  }
 ],
 "metadata": {
  "kernelspec": {
   "display_name": "Python 3",
   "language": "python",
   "name": "python3"
  },
  "language_info": {
   "codemirror_mode": {
    "name": "ipython",
    "version": 3
   },
   "file_extension": ".py",
   "mimetype": "text/x-python",
   "name": "python",
   "nbconvert_exporter": "python",
   "pygments_lexer": "ipython3",
   "version": "3.7.9"
  }
 },
 "nbformat": 4,
 "nbformat_minor": 4
}
